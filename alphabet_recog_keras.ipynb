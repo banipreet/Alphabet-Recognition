{
 "cells": [
  {
   "cell_type": "code",
   "execution_count": 1,
   "metadata": {},
   "outputs": [
    {
     "name": "stderr",
     "output_type": "stream",
     "text": [
      "C:\\Users\\Banipreet\\Anaconda3\\lib\\site-packages\\h5py\\__init__.py:36: FutureWarning: Conversion of the second argument of issubdtype from `float` to `np.floating` is deprecated. In future, it will be treated as `np.float64 == np.dtype(float).type`.\n",
      "  from ._conv import register_converters as _register_converters\n",
      "Using TensorFlow backend.\n"
     ]
    }
   ],
   "source": [
    "import tensorflow as tf\n",
    "import keras\n",
    "import numpy as np\n",
    "%matplotlib inline\n",
    "from keras.models import Model\n",
    "from keras.layers import Dense, Dropout, Activation, Conv2D, MaxPooling2D, Input, Flatten\n",
    "import matplotlib.pyplot as plt\n",
    "import pandas as pd"
   ]
  },
  {
   "cell_type": "code",
   "execution_count": 2,
   "metadata": {},
   "outputs": [],
   "source": [
    "data = pd.read_csv('A_Z Handwritten Data.csv')"
   ]
  },
  {
   "cell_type": "code",
   "execution_count": 11,
   "metadata": {},
   "outputs": [],
   "source": [
    "X = data.iloc[:, 1:].values\n",
    "y = data.iloc[:,0].values\n",
    "from sklearn.cross_validation import train_test_split\n",
    "X_train, X_test, y_train, y_test = train_test_split(X, y, test_size = 0.027, random_state = 0)"
   ]
  },
  {
   "cell_type": "code",
   "execution_count": 12,
   "metadata": {},
   "outputs": [
    {
     "name": "stdout",
     "output_type": "stream",
     "text": [
      "(362393, 784)\n",
      "(10057, 784)\n"
     ]
    }
   ],
   "source": [
    "print(X_train.shape)\n",
    "print(X_test.shape)"
   ]
  },
  {
   "cell_type": "code",
   "execution_count": 13,
   "metadata": {},
   "outputs": [
    {
     "name": "stdout",
     "output_type": "stream",
     "text": [
      "O\n"
     ]
    },
    {
     "data": {
      "image/png": "[encoded data removed]",
      "text/plain": [
       "<matplotlib.figure.Figure at 0x24b4fbf3c50>"
      ]
     },
     "metadata": {},
     "output_type": "display_data"
    }
   ],
   "source": [
    "xtest = X_train[2]\n",
    "xtest = xtest.reshape([28,28])\n",
    "ytest = y_train[2]\n",
    "plt.imshow(xtest)\n",
    "print(chr(ord('A')+ytest))"
   ]
  },
  {
   "cell_type": "code",
   "execution_count": 14,
   "metadata": {},
   "outputs": [
    {
     "name": "stdout",
     "output_type": "stream",
     "text": [
      "(362393, 26)\n"
     ]
    }
   ],
   "source": [
    "num_classes= 26\n",
    "input_shape = (28,28,1)\n",
    "X_train = np.reshape(X_train, [X_train.shape[0],28,28,1])\n",
    "X_test = np.reshape(X_test, [X_test.shape[0],28,28,1])\n",
    "y_train = keras.utils.to_categorical(y_train, num_classes)\n",
    "y_test = keras.utils.to_categorical(y_test, num_classes)\n",
    "print(y_train.shape)"
   ]
  },
  {
   "cell_type": "code",
   "execution_count": 15,
   "metadata": {},
   "outputs": [],
   "source": [
    "def alphaModel(input_shape = (28, 28, 1)):\n",
    "    X_input = Input(input_shape)\n",
    "    X = Conv2D(filters = 32, kernel_size = (5, 5), strides = (1,1), padding = 'same',activation='relu')(X_input)\n",
    "    X = MaxPooling2D(pool_size=(2, 2), strides=(2,2), padding='valid')(X)\n",
    "\n",
    "    X = Conv2D(filters = 64, kernel_size = (5,5), strides = (1,1), padding = 'same', activation='relu')(X)\n",
    "    X = MaxPooling2D(pool_size=(2, 2), strides=(2,2), padding='valid')(X)\n",
    "    X = Flatten()(X)\n",
    "    X = Dense(1024, activation='relu', kernel_initializer='TruncatedNormal',bias_initializer='zeros')(X)\n",
    "    X = Dense(num_classes, activation='softmax', kernel_initializer='TruncatedNormal',bias_initializer='zeros')(X)\n",
    "    \n",
    "    model = Model(inputs = X_input, outputs = X, name='alphaModel')\n",
    "\n",
    "    return model"
   ]
  },
  {
   "cell_type": "code",
   "execution_count": 16,
   "metadata": {},
   "outputs": [
    {
     "name": "stdout",
     "output_type": "stream",
     "text": [
      "_________________________________________________________________\n",
      "Layer (type)                 Output Shape              Param #   \n",
      "=================================================================\n",
      "input_2 (InputLayer)         (None, 28, 28, 1)         0         \n",
      "_________________________________________________________________\n",
      "conv2d_3 (Conv2D)            (None, 28, 28, 32)        832       \n",
      "_________________________________________________________________\n",
      "max_pooling2d_3 (MaxPooling2 (None, 14, 14, 32)        0         \n",
      "_________________________________________________________________\n",
      "conv2d_4 (Conv2D)            (None, 14, 14, 64)        51264     \n",
      "_________________________________________________________________\n",
      "max_pooling2d_4 (MaxPooling2 (None, 7, 7, 64)          0         \n",
      "_________________________________________________________________\n",
      "flatten_2 (Flatten)          (None, 3136)              0         \n",
      "_________________________________________________________________\n",
      "dense_3 (Dense)              (None, 1024)              3212288   \n",
      "_________________________________________________________________\n",
      "dense_4 (Dense)              (None, 26)                26650     \n",
      "=================================================================\n",
      "Total params: 3,291,034\n",
      "Trainable params: 3,291,034\n",
      "Non-trainable params: 0\n",
      "_________________________________________________________________\n"
     ]
    }
   ],
   "source": [
    "model = alphaModel(input_shape = (28,28,1))\n",
    "model.summary()"
   ]
  },
  {
   "cell_type": "code",
   "execution_count": 17,
   "metadata": {},
   "outputs": [],
   "source": [
    "model.compile(loss='categorical_crossentropy',\n",
    "              optimizer='adam',\n",
    "              metrics=['accuracy'])"
   ]
  },
  {
   "cell_type": "code",
   "execution_count": 18,
   "metadata": {},
   "outputs": [
    {
     "name": "stdout",
     "output_type": "stream",
     "text": [
      "Train on 362393 samples, validate on 10057 samples\n",
      "Epoch 1/10\n",
      "362393/362393 [==============================] - 54s - loss: 0.1535 - acc: 0.9571 - val_loss: 0.0647 - val_acc: 0.9829\n",
      "Epoch 2/10\n",
      "362393/362393 [==============================] - 56s - loss: 0.0449 - acc: 0.9872 - val_loss: 0.0455 - val_acc: 0.9876\n",
      "Epoch 3/10\n",
      "362393/362393 [==============================] - 51s - loss: 0.0291 - acc: 0.9915 - val_loss: 0.0414 - val_acc: 0.9900\n",
      "Epoch 4/10\n",
      "362393/362393 [==============================] - 51s - loss: 0.0199 - acc: 0.9937 - val_loss: 0.0345 - val_acc: 0.9908\n",
      "Epoch 5/10\n",
      "362393/362393 [==============================] - 50s - loss: 0.0141 - acc: 0.9954 - val_loss: 0.0273 - val_acc: 0.9931\n",
      "Epoch 6/10\n",
      "362393/362393 [==============================] - 51s - loss: 0.0109 - acc: 0.9964 - val_loss: 0.0294 - val_acc: 0.9925\n",
      "Epoch 7/10\n",
      "362393/362393 [==============================] - 51s - loss: 0.0088 - acc: 0.9971 - val_loss: 0.0204 - val_acc: 0.9950\n",
      "Epoch 8/10\n",
      "362393/362393 [==============================] - 51s - loss: 0.0076 - acc: 0.9974 - val_loss: 0.0228 - val_acc: 0.9953\n",
      "Epoch 9/10\n",
      "362393/362393 [==============================] - 51s - loss: 0.0063 - acc: 0.9979 - val_loss: 0.0247 - val_acc: 0.9949\n",
      "Epoch 10/10\n",
      "362393/362393 [==============================] - 51s - loss: 0.0054 - acc: 0.9983 - val_loss: 0.0196 - val_acc: 0.9962\n"
     ]
    }
   ],
   "source": [
    "X_train = X_train/255\n",
    "X_test = X_test/255\n",
    "hist = model.fit(X_train, y_train,\n",
    "          batch_size=512,\n",
    "          epochs=10,\n",
    "          validation_data=(X_test, y_test), \n",
    "          )"
   ]
  },
  {
   "cell_type": "code",
   "execution_count": 19,
   "metadata": {},
   "outputs": [],
   "source": [
    "# save weights to file\n",
    "model.save_weights(\"weights.h5\")"
   ]
  },
  {
   "cell_type": "code",
   "execution_count": 20,
   "metadata": {},
   "outputs": [],
   "source": [
    "# load weights from file (can call without model.fit)\n",
    "model.load_weights(\"weights.h5\")"
   ]
  },
  {
   "cell_type": "code",
   "execution_count": 21,
   "metadata": {},
   "outputs": [
    {
     "name": "stdout",
     "output_type": "stream",
     "text": [
      "362393/362393 [==============================] - 83s    \n",
      "Train Accuracy: 99.80408010073693%\n",
      "Test Accuracy: 99.62215372377449%\n"
     ]
    }
   ],
   "source": [
    "score = model.evaluate(X_test, y_test)\n",
    "score2 = model.evaluate(X_train, y_train)\n",
    "print(\"Train Accuracy: \"+str(score2[1]*100)+\"%\")\n",
    "print(\"Test Accuracy: \"+str(score[1]*100)+\"%\")"
   ]
  },
  {
   "cell_type": "code",
   "execution_count": 30,
   "metadata": {},
   "outputs": [],
   "source": [
    "from glob import glob\n",
    "import cv2"
   ]
  },
  {
   "cell_type": "code",
   "execution_count": 31,
   "metadata": {},
   "outputs": [],
   "source": [
    "test = np.array(glob(\"Alphabets/*\"))"
   ]
  },
  {
   "cell_type": "code",
   "execution_count": 32,
   "metadata": {},
   "outputs": [
    {
     "data": {
      "image/png": "[encoded data removed]",
      "text/plain": [
       "<matplotlib.figure.Figure at 0x24b4fbf3780>"
      ]
     },
     "metadata": {},
     "output_type": "display_data"
    }
   ],
   "source": [
    "fig=plt.figure(figsize=(len(test), 1))\n",
    "ctr = 1\n",
    "b = []\n",
    "for img_path in test:\n",
    "    img = cv2.imread(img_path)\n",
    "    fig.add_subplot(len(test), 1, ctr)\n",
    "    plt.imshow(img)\n",
    "    img = cv2.cvtColor(img, cv2.COLOR_RGB2GRAY)\n",
    "    (thresh, im_bw) = cv2.threshold(img, 128, 255, cv2.THRESH_BINARY | cv2.THRESH_OTSU)\n",
    "    b.append(im_bw)\n",
    "    ctr += 1\n",
    "    \n",
    "    \n",
    "b = np.array(b)\n",
    "b = np.reshape(b, [b.shape[0],b.shape[1],b.shape[2],1])\n",
    "b = model.predict(b)"
   ]
  },
  {
   "cell_type": "code",
   "execution_count": 33,
   "metadata": {},
   "outputs": [
    {
     "name": "stdout",
     "output_type": "stream",
     "text": [
      "B\n"
     ]
    }
   ],
   "source": [
    "for ans in b:\n",
    "    temp = np.argmax(ans)\n",
    "    print(chr(ord('A')+temp))"
   ]
  },
  {
   "cell_type": "code",
   "execution_count": null,
   "metadata": {},
   "outputs": [],
   "source": []
  }
 ],
 "metadata": {
  "kernelspec": {
   "display_name": "Python 3",
   "language": "python",
   "name": "python3"
  },
  "language_info": {
   "codemirror_mode": {
    "name": "ipython",
    "version": 3
   },
   "file_extension": ".py",
   "mimetype": "text/x-python",
   "name": "python",
   "nbconvert_exporter": "python",
   "pygments_lexer": "ipython3",
   "version": "3.6.4"
  }
 },
 "nbformat": 4,
 "nbformat_minor": 2
}
